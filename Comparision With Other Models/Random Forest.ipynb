{
 "cells": [
  {
   "cell_type": "code",
   "execution_count": 1,
   "metadata": {},
   "outputs": [],
   "source": [
    "# %%\n",
    "# In[1]:\n",
    "# Importing necessary libraries and modules\n",
    "import pandas as pd\n",
    "from sklearn.ensemble import RandomForestClassifier\n",
    "from sklearn.model_selection import train_test_split\n",
    "from sklearn.feature_extraction.text import TfidfVectorizer\n",
    "from sklearn.metrics import classification_report, accuracy_score, log_loss\n",
    "from tqdm.notebook import tqdm"
   ]
  },
  {
   "cell_type": "code",
   "execution_count": 2,
   "metadata": {},
   "outputs": [],
   "source": [
    "# %%\n",
    "# In[2]:\n",
    "# Load the dataset\n",
    "df = pd.read_csv('mental_health.csv')  # Replace with your path"
   ]
  },
  {
   "cell_type": "code",
   "execution_count": 3,
   "metadata": {},
   "outputs": [],
   "source": [
    "# %%\n",
    "# In[3]:\n",
    "# Splitting the dataset into training and validation sets\n",
    "texts = df['text'].values\n",
    "labels = df['label'].values\n",
    "texts_train, texts_val, labels_train, labels_val = train_test_split(texts, labels, test_size=0.2, random_state=42)"
   ]
  },
  {
   "cell_type": "code",
   "execution_count": 4,
   "metadata": {},
   "outputs": [],
   "source": [
    "# %%\n",
    "# In[4]:\n",
    "# Using TF-IDF to convert text data to numerical format\n",
    "tfidf_vectorizer = TfidfVectorizer(max_features=5000)  # Consider top 5000 frequent terms\n",
    "texts_train_tfidf = tfidf_vectorizer.fit_transform(texts_train)\n",
    "texts_val_tfidf = tfidf_vectorizer.transform(texts_val)"
   ]
  },
  {
   "cell_type": "code",
   "execution_count": 5,
   "metadata": {},
   "outputs": [
    {
     "data": {
      "application/vnd.jupyter.widget-view+json": {
       "model_id": "7788ca1631664b98b05692c01281fbae",
       "version_major": 2,
       "version_minor": 0
      },
      "text/plain": [
       "Training Random Forest:   0%|          | 0/100 [00:00<?, ?it/s]"
      ]
     },
     "metadata": {},
     "output_type": "display_data"
    }
   ],
   "source": [
    "# %%\n",
    "# In[5]:\n",
    "# Initialize and train the Random Forest model\n",
    "n_estimators = 100\n",
    "rf_model = RandomForestClassifier(n_estimators=n_estimators)\n",
    "for i in tqdm(range(n_estimators), desc=\"Training Random Forest\"):\n",
    "    rf_model.n_estimators = i+1\n",
    "    rf_model.fit(texts_train_tfidf, labels_train)"
   ]
  },
  {
   "cell_type": "code",
   "execution_count": 6,
   "metadata": {},
   "outputs": [
    {
     "name": "stdout",
     "output_type": "stream",
     "text": [
      "Loss: 0.3117\n",
      "Accuracy: 89.08%\n",
      "              precision    recall  f1-score   support\n",
      "\n",
      "           0       0.90      0.88      0.89      2802\n",
      "           1       0.88      0.90      0.89      2794\n",
      "\n",
      "    accuracy                           0.89      5596\n",
      "   macro avg       0.89      0.89      0.89      5596\n",
      "weighted avg       0.89      0.89      0.89      5596\n",
      "\n"
     ]
    }
   ],
   "source": [
    "# %%\n",
    "# In[6]:\n",
    "# Making predictions\n",
    "labels_pred = rf_model.predict(texts_val_tfidf)\n",
    "labels_pred_proba = rf_model.predict_proba(texts_val_tfidf)[:, 1]\n",
    "\n",
    "# Calculate the log loss\n",
    "loss = log_loss(labels_val, labels_pred_proba)\n",
    "\n",
    "# Calculate accuracy\n",
    "accuracy = accuracy_score(labels_val, labels_pred)\n",
    "\n",
    "# Print out the metrics\n",
    "print(f\"Loss: {loss:.4f}\")\n",
    "print(f\"Accuracy: {accuracy * 100:.2f}%\")\n",
    "print(classification_report(labels_val, labels_pred))"
   ]
  }
 ],
 "metadata": {
  "kernelspec": {
   "display_name": "base",
   "language": "python",
   "name": "python3"
  },
  "language_info": {
   "codemirror_mode": {
    "name": "ipython",
    "version": 3
   },
   "file_extension": ".py",
   "mimetype": "text/x-python",
   "name": "python",
   "nbconvert_exporter": "python",
   "pygments_lexer": "ipython3",
   "version": "3.11.5"
  }
 },
 "nbformat": 4,
 "nbformat_minor": 2
}
